{
  "nbformat": 4,
  "nbformat_minor": 0,
  "metadata": {
    "colab": {
      "provenance": []
    },
    "kernelspec": {
      "name": "python3",
      "display_name": "Python 3"
    },
    "language_info": {
      "name": "python"
    }
  },
  "cells": [
    {
      "cell_type": "code",
      "source": [
        "! pip install pytube"
      ],
      "metadata": {
        "colab": {
          "base_uri": "https://localhost:8080/"
        },
        "id": "f1oH7Ljk3g54",
        "outputId": "c8099a6b-0c59-4086-b989-8a4d857394ef"
      },
      "execution_count": 7,
      "outputs": [
        {
          "output_type": "stream",
          "name": "stdout",
          "text": [
            "Collecting pytube\n",
            "  Downloading pytube-15.0.0-py3-none-any.whl.metadata (5.0 kB)\n",
            "Downloading pytube-15.0.0-py3-none-any.whl (57 kB)\n",
            "\u001b[?25l   \u001b[90m━━━━━━━━━━━━━━━━━━━━━━━━━━━━━━━━━━━━━━━━\u001b[0m \u001b[32m0.0/57.6 kB\u001b[0m \u001b[31m?\u001b[0m eta \u001b[36m-:--:--\u001b[0m\r\u001b[2K   \u001b[90m━━━━━━━━━━━━━━━━━━━━━━━━━━━━━━━━━━━━━━━━\u001b[0m \u001b[32m57.6/57.6 kB\u001b[0m \u001b[31m2.2 MB/s\u001b[0m eta \u001b[36m0:00:00\u001b[0m\n",
            "\u001b[?25hInstalling collected packages: pytube\n",
            "Successfully installed pytube-15.0.0\n"
          ]
        }
      ]
    },
    {
      "cell_type": "code",
      "source": [
        "from pytube import YouTube\n",
        "\n",
        "# URL of the YouTube video\n",
        "video_url = \"C:\\Users\\Ghazala\\Desktop\\AI And Data Science Course NUST 2024\\Module 8\\VIDEO _ Fatal crash as fleeing car causes building collapse in Baltimore.mp4\"\n",
        "\n",
        "# Create a YouTube object\n",
        "yt = YouTube(video_url)\n",
        "\n",
        "# Get the highest resolution stream available\n",
        "video_stream = yt.streams\n",
        "\n",
        "# Download the video\n",
        "video_stream.download(output_path='output', filename='accident_video.mp4')\n",
        "\n",
        "print(\"Video downloaded successfully!\")"
      ],
      "metadata": {
        "id": "FbZZJyGB9Oke"
      },
      "execution_count": null,
      "outputs": []
    },
    {
      "cell_type": "code",
      "source": [
        "import cv2\n",
        "\n",
        "# Path to the downloaded video\n",
        "video_path = 'output/accident_video.mp4'\n",
        "\n",
        "# Open the video file\n",
        "cap = cv2.VideoCapture(video_path)\n",
        "\n",
        "if not cap.isOpened():\n",
        "    print(\"Error: Could not open video.\")\n",
        "else:\n",
        "    # Example usage of frame extraction\n",
        "    ret, frame = cap.read()\n",
        "    if ret:\n",
        "        cv2.imwrite('output/frames/frame_0.jpg', frame)\n",
        "        print(\"Frame extracted successfully!\")\n",
        "    else:\n",
        "        print(\"Error: Could not read frame.\")\n",
        "\n",
        "cap.release()\n"
      ],
      "metadata": {
        "id": "OG7dZcT74zzV"
      },
      "execution_count": null,
      "outputs": []
    },
    {
      "cell_type": "code",
      "source": [
        "def denoise_image(image):\n",
        "    return cv2.GaussianBlur(image, (5, 5), 0)\n",
        "\n",
        "# Load the extracted frame\n",
        "image = cv2.imread('output/frames/frame_0.jpg')\n",
        "\n",
        "# Denoise the image\n",
        "denoised_image = denoise_image(image)\n",
        "\n",
        "# Save the denoised image\n",
        "cv2.imwrite('output/processed/frame_0_denoised.jpg', denoised_image)\n",
        "print(\"Denoised image saved successfully!\")\n"
      ],
      "metadata": {
        "id": "s3goBMEI9Y9r"
      },
      "execution_count": null,
      "outputs": []
    },
    {
      "cell_type": "code",
      "source": [],
      "metadata": {
        "id": "gcETytUzrhKw"
      },
      "execution_count": null,
      "outputs": []
    }
  ]
}